{
 "cells": [
  {
   "cell_type": "markdown",
   "metadata": {},
   "source": [
    "# Habitat 2.0 Gym API\n",
    "This tutorial covers how to use Habitat 2.0 environments as standard gym environments. Currently, to use Habitat 2.0, you **must use the `hab_suite` development branch of Habitat Lab.**\n",
    "See [here for Habitat 2.0 installation instructions](https://colab.research.google.com/github/facebookresearch/habitat-lab/blob/hab_suite/examples/tutorials/colabs/Habitat2_Quickstart.ipynb#scrollTo=50rOVwceXvzL)"
   ]
  },
  {
   "cell_type": "code",
   "execution_count": null,
   "metadata": {},
   "outputs": [],
   "source": [
    "%%capture\n",
    "# @title Install Dependencies (if on Colab) { display-mode: \"form\" }\n",
    "# @markdown (double click to show code)\n",
    "\n",
    "import os\n",
    "\n",
    "if \"COLAB_GPU\" in os.environ:\n",
    "    print(\"Setting up Habitat\")\n",
    "    !curl -L https://raw.githubusercontent.com/facebookresearch/habitat-sim/main/examples/colab_utils/colab_install.sh | NIGHTLY=true bash -s\n",
    "    # Setup to use the hab_suite branch of Habitat Lab.\n",
    "    ! cd /content/habitat-lab && git remote set-branches origin 'hab_suite' && git fetch -v && git checkout hab_suite && cd /content/habitat-lab && python setup.py develop --all && pip install . && cd -"
   ]
  },
  {
   "cell_type": "code",
   "execution_count": null,
   "metadata": {},
   "outputs": [],
   "source": [
    "import os\n",
    "\n",
    "if \"COLAB_GPU\" in os.environ:\n",
    "    print(\"Setting Habitat base path\")\n",
    "    %env HABLAB_BASE_CFG_PATH=/content/habitat-lab\n",
    "    import importlib\n",
    "\n",
    "    import PIL\n",
    "\n",
    "    importlib.reload(PIL.TiffTags)\n",
    "\n",
    "# Video rendering utility.\n",
    "from habitat_sim.utils import viz_utils as vut\n",
    "\n",
    "# Quiet the Habitat simulator logging\n",
    "os.environ[\"MAGNUM_LOG\"] = \"quiet\"\n",
    "os.environ[\"HABITAT_SIM_LOG\"] = \"quiet\"\n",
    "\n",
    "\n",
    "# If the import block below fails due to an error like \"'PIL.TiffTags' has no attribute\n",
    "# 'IFD'\", then restart the Colab runtime instance and rerun this cell and the previous cell."
   ]
  },
  {
   "cell_type": "code",
   "execution_count": null,
   "metadata": {},
   "outputs": [],
   "source": [
    "# The ONLY two lines you need to add to start importing Habitat 2.0 Gym environments.\n",
    "import gym\n",
    "\n",
    "# flake8: noqa\n",
    "import habitat.utils.gym_definitions"
   ]
  },
  {
   "cell_type": "markdown",
   "metadata": {},
   "source": [
    "# Simple Example\n",
    "This example sets up the Pick task in render mode which includes a high resolution camera in the scene for visualization."
   ]
  },
  {
   "cell_type": "code",
   "execution_count": null,
   "metadata": {},
   "outputs": [],
   "source": [
    "env = gym.make(\"HabitatGymRenderPick-v0\")\n",
    "\n",
    "video_file_path = \"data/example_interact.mp4\"\n",
    "video_writer = vut.get_fast_video_writer(video_file_path, fps=30)\n",
    "\n",
    "done = False\n",
    "env.reset()\n",
    "while not done:\n",
    "    obs, reward, done, info = env.step(env.action_space.sample())\n",
    "    video_writer.append_data(env.render(\"rgb_array\"))\n",
    "\n",
    "video_writer.close()\n",
    "if vut.is_notebook():\n",
    "    vut.display_video(video_file_path)\n",
    "\n",
    "env.close()"
   ]
  },
  {
   "cell_type": "markdown",
   "metadata": {},
   "source": [
    "# Environment Options\n",
    "To create the environment in performance mode remove `Render` from the environment ID string. The environment ID follows the format: `HabitatGym[Render?][Task Name]-v0`. All the supported environment IDs are listed below. The `Render` option can always be included.\n",
    "\n",
    "* Skills:\n",
    "    * `HabitatGymPick-v0`\n",
    "    * `HabitatGymPlace-v0`\n",
    "    * `HabitatGymCloseCab-v0`\n",
    "    * `HabitatGymCloseFridge-v0`\n",
    "    * `HabitatGymOpenCab-v0`\n",
    "    * `HabitatGymOpenFridge-v0`\n",
    "    * `HabitatGymNavToObj-v0`\n",
    "    * `HabitatGymReachState-v0`\n",
    "* Home Assistant Benchmark (HAB) tasks:\n",
    "    * `HabitatGymTidyHouse-v0`\n",
    "    * `HabitatGymPrepareGroceries-v0`\n",
    "    * `HabitatGymSetTable-v0`\n",
    "    * `HabitatGymNavPick-v0`\n",
    "    * `HabitatGymNavPickNavPlace-v0`\n",
    "\n",
    "The Gym environments are automatically registered from the RL training configurations under [\"habitat_baselines/config/rearrange\"](https://github.com/facebookresearch/habitat-lab/tree/hab_suite_dev/habitat_baselines/config/rearrange). The `GYM_AUTO_NAME` key in the YAML file determines the `[Task Name]`. The observation keys in `RL.GYM_OBS_KEYS` are what is returned in the observation space. If the the observations are a set of 1D arrays, then the observation space is automatically flattened. For example, in `HabitatGymReachState-v0` the observation space is `RL.GYM_OBS_KEYS = ['joint', 'relative_resting_position']`. `joint` is a 7D array and `relative_resting_position` is a 3D array. These two arrays are concatenated automatically to give a `10D` observation space. On the other hand, in environments with image observations, the observation is returned as a dictionary.\n",
    "\n",
    "An example of these different observation spaces is demonstrated below:"
   ]
  },
  {
   "cell_type": "code",
   "execution_count": null,
   "metadata": {},
   "outputs": [],
   "source": [
    "# Dictionary observation space\n",
    "env = gym.make(\"HabitatGymPick-v0\")\n",
    "print({k: v.shape for k, v in env.observation_space.spaces.items()})\n",
    "env.close()\n",
    "\n",
    "# Array observation space\n",
    "env = gym.make(\"HabitatGymReachState-v0\")\n",
    "print(env.observation_space)\n",
    "env.close()"
   ]
  },
  {
   "cell_type": "markdown",
   "metadata": {},
   "source": [
    "# Environment Configuration\n",
    "\n",
    "You can also modify the config specified in the YAML file through `gym.make` by passing the `override_options` argument. Here is an example of changing the gripper type to use the suction grasp in the Pick Task."
   ]
  },
  {
   "cell_type": "code",
   "execution_count": null,
   "metadata": {},
   "outputs": [],
   "source": [
    "env = gym.make(\n",
    "    \"HabitatGymPick-v0\",\n",
    "    override_options=[\n",
    "        \"TASK_CONFIG.TASK.ACTIONS.ARM_ACTION.GRIP_CONTROLLER\",\n",
    "        \"SuctionGraspAction\",\n",
    "    ],\n",
    ")\n",
    "print(env.action_space)\n",
    "env.close()"
   ]
  }
 ],
 "metadata": {
  "accelerator": "GPU",
  "colab": {
   "collapsed_sections": [],
   "name": "Habitat 2.0 Gym Tutorial",
   "provenance": []
  },
  "jupytext": {
   "cell_metadata_filter": "-all",
   "formats": "nb_python//py:percent,colabs//ipynb",
   "main_language": "python",
   "notebook_metadata_filter": "all"
  },
  "kernelspec": {
   "display_name": "Python 3 (ipykernel)",
   "language": "python",
   "name": "python3"
  },
  "language_info": {
   "codemirror_mode": {
    "name": "ipython",
    "version": 3
   },
   "file_extension": ".py",
   "mimetype": "text/x-python",
   "name": "python",
   "nbconvert_exporter": "python",
   "pygments_lexer": "ipython3",
   "version": "3.9.7"
  }
 },
 "nbformat": 4,
 "nbformat_minor": 4
}
